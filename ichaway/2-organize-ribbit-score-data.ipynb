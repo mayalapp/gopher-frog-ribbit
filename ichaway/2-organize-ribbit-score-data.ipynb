{
 "cells": [
  {
   "cell_type": "markdown",
   "metadata": {},
   "source": [
    "# Organize ribbit scores"
   ]
  },
  {
   "cell_type": "markdown",
   "metadata": {},
   "source": [
    "This notebook is used to organize ribbit scores after running the model. You can use it to: \n",
    "1. Combine ribbit scores from multiple csv files\n",
    "1. Access subsets of the scores (for example, if you only want the top 10 scores for each wetland) and save this to a new csv file. \n",
    "\n",
    "Examples are given with the ribbit scores created from all of the data in Dec 2022. \n",
    "\n",
    "Note:`#*#` indicates locations where you may want to edit (e.g. file paths, etc.) "
   ]
  },
  {
   "cell_type": "markdown",
   "metadata": {},
   "source": [
    "## Setup"
   ]
  },
  {
   "cell_type": "code",
   "execution_count": 1,
   "metadata": {},
   "outputs": [],
   "source": [
    "# run the file setup_functions.ipynb to define setting, import packages, and define functions \n",
    "%run ../ribbit_functions/setup_functions.ipynb"
   ]
  },
  {
   "cell_type": "markdown",
   "metadata": {},
   "source": [
    "### Combine multiple ribbit score csv files "
   ]
  },
  {
   "cell_type": "code",
   "execution_count": 2,
   "metadata": {},
   "outputs": [
    {
     "name": "stdout",
     "output_type": "stream",
     "text": [
      "Are you sure you want to run this? (type 'yes' to continue)n\n",
      "aborted\n"
     ]
    }
   ],
   "source": [
    "# Only need to run if you need to combine ribbit scores from multiple csv files  \n",
    "# Useful if you broke up a model run into section to run it faster \n",
    "# WARNING: if delete_files = True this will delete individual files after combining them\n",
    "\n",
    "if input(\"Are you sure you want to combine csv files? (type 'yes' to continue)\")=='yes':\n",
    "    folder_path = \"./results_Dec2022/\" #*# path to folder containing the csv files you want to combine \n",
    "    rs_ich = combine_csvs(folder_path, new_csv_name = \"ribbit_scores_combined.csv\", delete_files = True)\n",
    "else:\n",
    "    print('aborted')\n"
   ]
  },
  {
   "cell_type": "markdown",
   "metadata": {},
   "source": [
    "## Import data\n"
   ]
  },
  {
   "cell_type": "code",
   "execution_count": 5,
   "metadata": {},
   "outputs": [],
   "source": [
    "ribbit_scores_fp = \"./results_Dec2022/ribbit_scores_combined.csv\" #*# change this to the file path for ribbit scores\n",
    "wetland_location_fp = \"./ichaway_verified_data/fake_wetland_location_datasheet.csv\" #*# change this to the file path for wetland location datasheet\n",
    "\n",
    "# import scores\n",
    "rs_ich = pd.read_csv(ribbit_scores_fp, index_col = 0)\n",
    "rs_ich['date']=pd.to_datetime(rs_ich['date']) # convert column to date-time format\n",
    "\n",
    "wetland_location = pd.read_csv(wetland_location_fp)\n"
   ]
  },
  {
   "cell_type": "markdown",
   "metadata": {},
   "source": [
    "## Extracting top ribbit scores "
   ]
  },
  {
   "cell_type": "markdown",
   "metadata": {},
   "source": [
    "The `get_top_rs()` function lets you extract a subset of the ribbit scores. For example, you can get the top 10 scores for each logger. "
   ]
  },
  {
   "cell_type": "markdown",
   "metadata": {},
   "source": [
    "### Function definition"
   ]
  },
  {
   "cell_type": "markdown",
   "metadata": {},
   "source": [
    "`def get_top_rs(df, n = 5, min_score = 0.0, t_unit = \"Y\", \\\n",
    "               group_col = 'no_groups', groups = [\"0\"], \\\n",
    "               score_col = \"score\", time_stamp_col = \"time_stamp\", \\\n",
    "               save_csv = False):`\n",
    "\n",
    "**Purpose:** get list of audio files with top ribbit scores for certain criterion\n",
    "\n",
    "**Input:** \n",
    "* `df` - data frame with ribbit scores \n",
    "* `n` - number of files per group (e.g. n = 5 gets top 5 ribbit scores per group)\n",
    "* `min_score` - minimum ribbit score needed for file to be included \n",
    "      (e.g. if you want all files above a ribbit score of 50, you could have min_score = 50 and n = 999999999999)\n",
    "* `t_unit` - unit for how often we want the top scores (options: D, W, M, Y, Q - day, week, month, year, quarter year)\n",
    "* `group_col` - the name of the column with the labels grouping our files \n",
    "      (e.g. \"pond\" for sandhills or \"site\" for ichaway wetlands)\n",
    "* `groups` - list of the groupings \n",
    "      (e.g. for sandhills the pond numbers [398, 399, 400, 401, 402, 403]; for ichaway would be the wetlands' names)\n",
    "* `score_col` - column name where ribbit score is stored \n",
    "* `time_stamp_col` - column name where time stamp for ribbit score is stored\n",
    "* `save_csv` - False if we do not want to save our output to a csv. Otherwise string of the file path where we want to save the csv file \n",
    "      (e.g. \"./ribbit_scores/top_ribbit_scores_per_year.csv\")\n",
    "\n",
    "**Out:**\n",
    "dataframe with top `n` files with ribbit score over `min_score` for each `groups` for every `t_unit` \n",
    "       "
   ]
  },
  {
   "cell_type": "markdown",
   "metadata": {},
   "source": [
    "### Example"
   ]
  },
  {
   "cell_type": "code",
   "execution_count": 4,
   "metadata": {},
   "outputs": [
    {
     "data": {
      "text/html": [
       "<div>\n",
       "<style scoped>\n",
       "    .dataframe tbody tr th:only-of-type {\n",
       "        vertical-align: middle;\n",
       "    }\n",
       "\n",
       "    .dataframe tbody tr th {\n",
       "        vertical-align: top;\n",
       "    }\n",
       "\n",
       "    .dataframe thead th {\n",
       "        text-align: right;\n",
       "    }\n",
       "</style>\n",
       "<table border=\"1\" class=\"dataframe\">\n",
       "  <thead>\n",
       "    <tr style=\"text-align: right;\">\n",
       "      <th></th>\n",
       "      <th>logger</th>\n",
       "      <th>date_group</th>\n",
       "      <th>score</th>\n",
       "      <th>time_stamp</th>\n",
       "      <th>year</th>\n",
       "      <th>date</th>\n",
       "    </tr>\n",
       "  </thead>\n",
       "  <tbody>\n",
       "    <tr>\n",
       "      <th>/Volumes/Expansion/Frog Call Project/Calling Data/ichaway/ichaway_2014/1a/4-21-14/20140423_224200.wav</th>\n",
       "      <td>1a</td>\n",
       "      <td>2014</td>\n",
       "      <td>188.58</td>\n",
       "      <td>285.0</td>\n",
       "      <td>2014</td>\n",
       "      <td>2014-04-23 22:42:00</td>\n",
       "    </tr>\n",
       "    <tr>\n",
       "      <th>/Volumes/Expansion/Frog Call Project/Calling Data/ichaway/ichaway_2015/1a/2-23-15/20150223_230100.wav</th>\n",
       "      <td>1a</td>\n",
       "      <td>2015</td>\n",
       "      <td>108.08</td>\n",
       "      <td>85.5</td>\n",
       "      <td>2015</td>\n",
       "      <td>2015-02-23 23:01:00</td>\n",
       "    </tr>\n",
       "    <tr>\n",
       "      <th>/Volumes/Expansion/Frog Call Project/Calling Data/ichaway/ichaway_2014/5a/4-21-14/20140423_004100.wav</th>\n",
       "      <td>5a</td>\n",
       "      <td>2014</td>\n",
       "      <td>182.29</td>\n",
       "      <td>70.0</td>\n",
       "      <td>2014</td>\n",
       "      <td>2014-04-23 00:41:00</td>\n",
       "    </tr>\n",
       "    <tr>\n",
       "      <th>/Volumes/Expansion/Frog Call Project/Calling Data/ichaway/ichaway_2015/5a/2-2-15/20150203_194500.wav</th>\n",
       "      <td>5a</td>\n",
       "      <td>2015</td>\n",
       "      <td>576.51</td>\n",
       "      <td>195.5</td>\n",
       "      <td>2015</td>\n",
       "      <td>2015-02-03 19:45:00</td>\n",
       "    </tr>\n",
       "    <tr>\n",
       "      <th>/Volumes/Expansion/Frog Call Project/Calling Data/ichaway/ichaway_2014/7a/4-21-14/20140424_234200.wav</th>\n",
       "      <td>7a</td>\n",
       "      <td>2014</td>\n",
       "      <td>184.17</td>\n",
       "      <td>205.0</td>\n",
       "      <td>2014</td>\n",
       "      <td>2014-04-24 23:42:00</td>\n",
       "    </tr>\n",
       "    <tr>\n",
       "      <th>/Volumes/Expansion/Frog Call Project/Calling Data/ichaway/ichaway_2015/7a/3-12-15/20150314_231500.wav</th>\n",
       "      <td>7a</td>\n",
       "      <td>2015</td>\n",
       "      <td>260.08</td>\n",
       "      <td>286.5</td>\n",
       "      <td>2015</td>\n",
       "      <td>2015-03-14 23:15:00</td>\n",
       "    </tr>\n",
       "  </tbody>\n",
       "</table>\n",
       "</div>"
      ],
      "text/plain": [
       "                                                                                                      logger  \\\n",
       "/Volumes/Expansion/Frog Call Project/Calling Data/ichaway/ichaway_2014/1a/4-21-14/20140423_224200.wav     1a   \n",
       "/Volumes/Expansion/Frog Call Project/Calling Data/ichaway/ichaway_2015/1a/2-23-15/20150223_230100.wav     1a   \n",
       "/Volumes/Expansion/Frog Call Project/Calling Data/ichaway/ichaway_2014/5a/4-21-14/20140423_004100.wav     5a   \n",
       "/Volumes/Expansion/Frog Call Project/Calling Data/ichaway/ichaway_2015/5a/2-2-15/20150203_194500.wav      5a   \n",
       "/Volumes/Expansion/Frog Call Project/Calling Data/ichaway/ichaway_2014/7a/4-21-14/20140424_234200.wav     7a   \n",
       "/Volumes/Expansion/Frog Call Project/Calling Data/ichaway/ichaway_2015/7a/3-12-15/20150314_231500.wav     7a   \n",
       "\n",
       "                                                                                                      date_group  \\\n",
       "/Volumes/Expansion/Frog Call Project/Calling Data/ichaway/ichaway_2014/1a/4-21-14/20140423_224200.wav       2014   \n",
       "/Volumes/Expansion/Frog Call Project/Calling Data/ichaway/ichaway_2015/1a/2-23-15/20150223_230100.wav       2015   \n",
       "/Volumes/Expansion/Frog Call Project/Calling Data/ichaway/ichaway_2014/5a/4-21-14/20140423_004100.wav       2014   \n",
       "/Volumes/Expansion/Frog Call Project/Calling Data/ichaway/ichaway_2015/5a/2-2-15/20150203_194500.wav        2015   \n",
       "/Volumes/Expansion/Frog Call Project/Calling Data/ichaway/ichaway_2014/7a/4-21-14/20140424_234200.wav       2014   \n",
       "/Volumes/Expansion/Frog Call Project/Calling Data/ichaway/ichaway_2015/7a/3-12-15/20150314_231500.wav       2015   \n",
       "\n",
       "                                                                                                        score  \\\n",
       "/Volumes/Expansion/Frog Call Project/Calling Data/ichaway/ichaway_2014/1a/4-21-14/20140423_224200.wav  188.58   \n",
       "/Volumes/Expansion/Frog Call Project/Calling Data/ichaway/ichaway_2015/1a/2-23-15/20150223_230100.wav  108.08   \n",
       "/Volumes/Expansion/Frog Call Project/Calling Data/ichaway/ichaway_2014/5a/4-21-14/20140423_004100.wav  182.29   \n",
       "/Volumes/Expansion/Frog Call Project/Calling Data/ichaway/ichaway_2015/5a/2-2-15/20150203_194500.wav   576.51   \n",
       "/Volumes/Expansion/Frog Call Project/Calling Data/ichaway/ichaway_2014/7a/4-21-14/20140424_234200.wav  184.17   \n",
       "/Volumes/Expansion/Frog Call Project/Calling Data/ichaway/ichaway_2015/7a/3-12-15/20150314_231500.wav  260.08   \n",
       "\n",
       "                                                                                                       time_stamp  \\\n",
       "/Volumes/Expansion/Frog Call Project/Calling Data/ichaway/ichaway_2014/1a/4-21-14/20140423_224200.wav       285.0   \n",
       "/Volumes/Expansion/Frog Call Project/Calling Data/ichaway/ichaway_2015/1a/2-23-15/20150223_230100.wav        85.5   \n",
       "/Volumes/Expansion/Frog Call Project/Calling Data/ichaway/ichaway_2014/5a/4-21-14/20140423_004100.wav        70.0   \n",
       "/Volumes/Expansion/Frog Call Project/Calling Data/ichaway/ichaway_2015/5a/2-2-15/20150203_194500.wav        195.5   \n",
       "/Volumes/Expansion/Frog Call Project/Calling Data/ichaway/ichaway_2014/7a/4-21-14/20140424_234200.wav       205.0   \n",
       "/Volumes/Expansion/Frog Call Project/Calling Data/ichaway/ichaway_2015/7a/3-12-15/20150314_231500.wav       286.5   \n",
       "\n",
       "                                                                                                       year  \\\n",
       "/Volumes/Expansion/Frog Call Project/Calling Data/ichaway/ichaway_2014/1a/4-21-14/20140423_224200.wav  2014   \n",
       "/Volumes/Expansion/Frog Call Project/Calling Data/ichaway/ichaway_2015/1a/2-23-15/20150223_230100.wav  2015   \n",
       "/Volumes/Expansion/Frog Call Project/Calling Data/ichaway/ichaway_2014/5a/4-21-14/20140423_004100.wav  2014   \n",
       "/Volumes/Expansion/Frog Call Project/Calling Data/ichaway/ichaway_2015/5a/2-2-15/20150203_194500.wav   2015   \n",
       "/Volumes/Expansion/Frog Call Project/Calling Data/ichaway/ichaway_2014/7a/4-21-14/20140424_234200.wav  2014   \n",
       "/Volumes/Expansion/Frog Call Project/Calling Data/ichaway/ichaway_2015/7a/3-12-15/20150314_231500.wav  2015   \n",
       "\n",
       "                                                                                                                     date  \n",
       "/Volumes/Expansion/Frog Call Project/Calling Data/ichaway/ichaway_2014/1a/4-21-14/20140423_224200.wav 2014-04-23 22:42:00  \n",
       "/Volumes/Expansion/Frog Call Project/Calling Data/ichaway/ichaway_2015/1a/2-23-15/20150223_230100.wav 2015-02-23 23:01:00  \n",
       "/Volumes/Expansion/Frog Call Project/Calling Data/ichaway/ichaway_2014/5a/4-21-14/20140423_004100.wav 2014-04-23 00:41:00  \n",
       "/Volumes/Expansion/Frog Call Project/Calling Data/ichaway/ichaway_2015/5a/2-2-15/20150203_194500.wav  2015-02-03 19:45:00  \n",
       "/Volumes/Expansion/Frog Call Project/Calling Data/ichaway/ichaway_2014/7a/4-21-14/20140424_234200.wav 2014-04-24 23:42:00  \n",
       "/Volumes/Expansion/Frog Call Project/Calling Data/ichaway/ichaway_2015/7a/3-12-15/20150314_231500.wav 2015-03-14 23:15:00  "
      ]
     },
     "execution_count": 4,
     "metadata": {},
     "output_type": "execute_result"
    }
   ],
   "source": [
    "# Get top 1 audio files for 3 loggers for each year and save it to a csv file - using data that is not manually verified\n",
    "loggers = ['1a', '5a', '7a']\n",
    "temp = get_top_rs(rs_ich, n = 1, t_unit = 'Y', group_col = 'logger', groups = loggers, save_csv = \"./example_top_rs_ichaway.csv\")\n",
    "temp\n"
   ]
  },
  {
   "cell_type": "code",
   "execution_count": null,
   "metadata": {},
   "outputs": [],
   "source": []
  },
  {
   "cell_type": "code",
   "execution_count": null,
   "metadata": {},
   "outputs": [],
   "source": [
    "# this currently doesn't work for data that has not been verified because we don't know what wetland it was in \n",
    "\n",
    "# create variable of all ichaway wetlands that had audio loggers \n",
    "#ichaway_wetlands = verified_ich['site'].unique()\n",
    "\n",
    "# Get top 3 audio files for each wetland and save it to a csv file\n",
    "#temp = get_top_rs(verified_ich, n = 3, group_col = 'site', groups = ichaway_wetlands, save_csv = \"./example_top_rs_ichaway.csv\")\n"
   ]
  },
  {
   "cell_type": "code",
   "execution_count": null,
   "metadata": {},
   "outputs": [],
   "source": []
  },
  {
   "cell_type": "code",
   "execution_count": null,
   "metadata": {},
   "outputs": [],
   "source": []
  }
 ],
 "metadata": {
  "kernelspec": {
   "display_name": "OpenSoundscape060",
   "language": "python",
   "name": "opensoundscape060"
  },
  "language_info": {
   "codemirror_mode": {
    "name": "ipython",
    "version": 3
   },
   "file_extension": ".py",
   "mimetype": "text/x-python",
   "name": "python",
   "nbconvert_exporter": "python",
   "pygments_lexer": "ipython3",
   "version": "3.7.11"
  }
 },
 "nbformat": 4,
 "nbformat_minor": 4
}
