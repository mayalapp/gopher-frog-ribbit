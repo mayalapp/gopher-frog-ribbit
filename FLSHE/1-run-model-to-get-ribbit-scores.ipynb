{
 "cells": [
  {
   "cell_type": "markdown",
   "metadata": {},
   "source": [
    "# Run RIBBIT to detect _L. capito_  in FLSHE data "
   ]
  },
  {
   "cell_type": "markdown",
   "metadata": {},
   "source": [
    "This notebook is used to run RIBBIT to detect _Lithobates capito_ on FLSHE data. "
   ]
  },
  {
   "cell_type": "markdown",
   "metadata": {},
   "source": [
    "## How to use: \n",
    "\n",
    "\n",
    "1. Make sure all audio files end with the date/time for the file in the format \"xxxxx_YYYYMMDD_HHMMSS.wav\"\n",
    "1. Edit and run all **Setup** code chunks to prepare the model parameters and file paths for use. \n",
    "  - Note:`#*#` indicates locations where you may want to edit (e.g. file paths, parameter values, etc.)\n",
    "  \n",
    "1. Use the **Run model** code chunks to run the model. \n",
    "\n",
    "### Data organization \n",
    "\n",
    "This assumes the data is organized such that there is a folder for each year and each year contains folders for each logger (ie pond). \n",
    "\n",
    "e.g. This would be the file path for the data from logger 400 in 2022: \n",
    "\n",
    "`/Volumes/Expansion/Frog Call Project/Calling Data/FLSHE/FLSHE_2022/FLSHE_2022_400/`\n",
    "\n",
    "   \n",
    "### Tips and troubleshooting \n",
    "   \n",
    "1. This code will take hours to run if you're doing a lot of data! Plug in your computer. Also make sure you computer will not turn off while it is running (you may need to do this in your computer settings). It's ok if the screen turns off, but the computer must continue running. The model saves results at checkpoints, so if it stops for some reason, some of the data will be saved. \n",
    "\n",
    "1. To try to make it faster: One option is to open multiple instances of this notebook and run different years and/or loggers seperately. If you do this, make sure the folders labels are different for each piece that is running. \n",
    "\n",
    "1. You may get (MANY) warnings that say something like `UserWarning: nperseg = 256 is greater than input length  = 94, using nperseg = 94`. This is fine to ignore - it's just saying the last spectrogram used by the model is shorter because the audio file ended. \n",
    "\n",
    "1. An example for running a univariate parameter exploration is given below, as well. \n",
    "\n",
    "### For more on using RIBBIT\n",
    "[OpenSoundscape RIBBIT tutorial](http://opensoundscape.org/en/latest/tutorials/RIBBIT_pulse_rate_demo.html)\n",
    "\n",
    "\n",
    "\n"
   ]
  },
  {
   "cell_type": "markdown",
   "metadata": {},
   "source": [
    "## Setup "
   ]
  },
  {
   "cell_type": "code",
   "execution_count": 1,
   "metadata": {},
   "outputs": [],
   "source": [
    "# run the file setup_functions.ipynb to define setting, import packages, and define functions \n",
    "%run ../ribbit_functions/setup_functions.ipynb"
   ]
  },
  {
   "cell_type": "markdown",
   "metadata": {},
   "source": [
    "### Set base parameters "
   ]
  },
  {
   "cell_type": "markdown",
   "metadata": {},
   "source": [
    "These parameters can be adjusted to try to improve the model or to change the model for a different herp species \n",
    "\n",
    "#### Current best parameters for gopher frog detection (as of December 2022): \n",
    "base_pulse_rate_range = [14,28] pulses per sec\n",
    "\n",
    "base_signal_band = [600,800] Hz\n",
    "\n",
    "base_noise_bands = [[150,200], [1100,1200]] Hz\n",
    "\n",
    "base_clip_duration = 1 seconds\n",
    "\n",
    "base_clip_overlap = 0.5 seconds\n",
    "\n",
    "base_window_samples = 512\n"
   ]
  },
  {
   "cell_type": "code",
   "execution_count": 2,
   "metadata": {},
   "outputs": [],
   "source": [
    "# minimum and maximum rate of pulsing (pulses per second) to search for\n",
    "base_pulse_rate_range = [14,28] #*# change this to desired pulse-rate\n",
    "\n",
    "# look for a vocalization in the range of 600-800 Hz\n",
    "base_signal_band = [600,800] #*#\n",
    "\n",
    "\n",
    "# subtract the amplitude signal from these frequency ranges\n",
    "base_noise_bands = [[150,200], [1100,1200]] #*#\n",
    "\n",
    "#divides the signal into segments this many seconds long, analyzes each independently\n",
    "base_clip_duration = 1 #*# seconds\n",
    "base_clip_overlap = 0.5 #*# seconds\n",
    "\n",
    "# window_samples used to create spectrogram - default 512. smaller -> greater time resolution. bigger -> greater frequency resolution\n",
    "base_window_samples = 512 #*#\n",
    "\n",
    "#if True, it will show the power spectrum plot for each audio segment\n",
    "show_plots = False # don't change this - will slow down model considerably \n"
   ]
  },
  {
   "cell_type": "markdown",
   "metadata": {},
   "source": [
    "### Define functions used to run RIBBIT"
   ]
  },
  {
   "cell_type": "code",
   "execution_count": 3,
   "metadata": {},
   "outputs": [],
   "source": [
    "# run the file run_ribbit_functions.ipynb to define the functions used to run the RIBBIT model with different parameters \n",
    "# Note: this must be done after base parameters are set\n",
    "%run ../ribbit_functions/run_ribbit_functions.ipynb\n"
   ]
  },
  {
   "cell_type": "markdown",
   "metadata": {},
   "source": [
    "### Set up file paths"
   ]
  },
  {
   "cell_type": "code",
   "execution_count": 4,
   "metadata": {},
   "outputs": [],
   "source": [
    "# folder path for where the audio files are stored \n",
    "folder_path = './sample_data/'#*# change this to your folder path containing your data. Should end in backslash\n",
    "# e.g. Maya's path: '/Volumes/Expansion/Frog Call Project/Calling Data/FLSHE/' \n",
    "\n",
    "# folder label for where ribbit scores csv will be saved. folder will be named: ribbit_scores_folder_lab\n",
    "folder_lab = '_sample_files' #*# change this to label the folder where the ribbit scores will be saved \n",
    "\n",
    "# edit this if you only want to run the model for specific years/ponds\n",
    "all_years = [\"2017\", \"2018\", \"2019\", \"2020\", \"2021\", \"2022\"] #*# change this to choose years to analyze \n",
    "all_loggers = [\"398\", \"399\", \"400\", \"401\", \"402\", \"403\"] #*# change this to choose logger names to analyze\n",
    "\n"
   ]
  },
  {
   "cell_type": "markdown",
   "metadata": {},
   "source": [
    "## Run model "
   ]
  },
  {
   "cell_type": "code",
   "execution_count": 9,
   "metadata": {},
   "outputs": [
    {
     "name": "stderr",
     "output_type": "stream",
     "text": [
      "/Users/mayalapp/opt/anaconda3/envs/opensoundscape060/lib/python3.7/site-packages/scipy/signal/spectral.py:1966: UserWarning: nperseg = 256 is greater than input length  = 93, using nperseg = 93\n",
      "/Users/mayalapp/opt/anaconda3/envs/opensoundscape060/lib/python3.7/site-packages/scipy/signal/spectral.py:1966: UserWarning: nperseg = 256 is greater than input length  = 94, using nperseg = 94\n",
      "/Users/mayalapp/opt/anaconda3/envs/opensoundscape060/lib/python3.7/site-packages/scipy/signal/spectral.py:1966: UserWarning: nperseg = 256 is greater than input length  = 93, using nperseg = 93\n",
      "/Users/mayalapp/opt/anaconda3/envs/opensoundscape060/lib/python3.7/site-packages/scipy/signal/spectral.py:1966: UserWarning: nperseg = 256 is greater than input length  = 94, using nperseg = 94\n",
      "/Users/mayalapp/opt/anaconda3/envs/opensoundscape060/lib/python3.7/site-packages/scipy/signal/spectral.py:1966: UserWarning: nperseg = 256 is greater than input length  = 93, using nperseg = 93\n",
      "/Users/mayalapp/opt/anaconda3/envs/opensoundscape060/lib/python3.7/site-packages/scipy/signal/spectral.py:1966: UserWarning: nperseg = 256 is greater than input length  = 94, using nperseg = 94\n",
      "/Users/mayalapp/opt/anaconda3/envs/opensoundscape060/lib/python3.7/site-packages/scipy/signal/spectral.py:1966: UserWarning: nperseg = 256 is greater than input length  = 93, using nperseg = 93\n",
      "/Users/mayalapp/opt/anaconda3/envs/opensoundscape060/lib/python3.7/site-packages/scipy/signal/spectral.py:1966: UserWarning: nperseg = 256 is greater than input length  = 94, using nperseg = 94\n",
      "/Users/mayalapp/opt/anaconda3/envs/opensoundscape060/lib/python3.7/site-packages/scipy/signal/spectral.py:1966: UserWarning: nperseg = 256 is greater than input length  = 93, using nperseg = 93\n",
      "/Users/mayalapp/opt/anaconda3/envs/opensoundscape060/lib/python3.7/site-packages/scipy/signal/spectral.py:1966: UserWarning: nperseg = 256 is greater than input length  = 94, using nperseg = 94\n"
     ]
    },
    {
     "name": "stdout",
     "output_type": "stream",
     "text": [
      "Time elapsed  0:00:00.440342\n"
     ]
    },
    {
     "name": "stderr",
     "output_type": "stream",
     "text": [
      "/Users/mayalapp/opt/anaconda3/envs/opensoundscape060/lib/python3.7/site-packages/scipy/signal/spectral.py:1966: UserWarning: nperseg = 256 is greater than input length  = 93, using nperseg = 93\n",
      "/Users/mayalapp/opt/anaconda3/envs/opensoundscape060/lib/python3.7/site-packages/scipy/signal/spectral.py:1966: UserWarning: nperseg = 256 is greater than input length  = 94, using nperseg = 94\n",
      "/Users/mayalapp/opt/anaconda3/envs/opensoundscape060/lib/python3.7/site-packages/scipy/signal/spectral.py:1966: UserWarning: nperseg = 256 is greater than input length  = 62, using nperseg = 62\n",
      "/Users/mayalapp/opt/anaconda3/envs/opensoundscape060/lib/python3.7/site-packages/scipy/signal/spectral.py:1966: UserWarning: nperseg = 256 is greater than input length  = 63, using nperseg = 63\n",
      "/Users/mayalapp/opt/anaconda3/envs/opensoundscape060/lib/python3.7/site-packages/scipy/signal/spectral.py:1966: UserWarning: nperseg = 256 is greater than input length  = 93, using nperseg = 93\n",
      "/Users/mayalapp/opt/anaconda3/envs/opensoundscape060/lib/python3.7/site-packages/scipy/signal/spectral.py:1966: UserWarning: nperseg = 256 is greater than input length  = 94, using nperseg = 94\n"
     ]
    }
   ],
   "source": [
    "# %%capture --no-stdout --no-display \n",
    "# above used to stop warnings displaying\n",
    "\n",
    "# create a df where the indices are all file names we want to run \n",
    "flshe_files = pd.DataFrame()\n",
    "        \n",
    "for i in range(0, len(all_years)):\n",
    "    for j in range(0, len(all_loggers)):\n",
    "        \n",
    "        # folder name where data is stored for this sepecific year and logger \n",
    "        folder = folder_path + 'FLSHE_' + all_years[i] + '/FLSHE_' + all_years[i] + '_' + all_loggers[j] + '/*.wav'\n",
    "        \n",
    "        temp = pd.DataFrame(index = glob(folder),columns=['score', 'year', 'logger']) # create dataframe for year i, logger j\n",
    "        temp['year'] = all_years[i] # automatically label year for these files\n",
    "        temp['logger'] = all_loggers[j] # automatically label loggers for these files\n",
    "        \n",
    "        flshe_files = pd.concat([flshe_files, temp])\n",
    "        \n",
    "# run ribbit for all of the files! \n",
    "flshe_rs = flshe_files.copy()\n",
    "flshe_rs\n",
    "run_ribbit_for_indices(flshe_rs, folder_lab = folder_lab)\n"
   ]
  },
  {
   "cell_type": "markdown",
   "metadata": {},
   "source": [
    "### See RIBBIT scores\n",
    "Note that the top 3 RIBBIT scores (by far) are all labeled \"Lcapito.\" The model successfully \"finds\" these RIBBIT calls. However, the file with the lowest score is also labeled \"Lcapito.\" In this file, the gopher frog called below the signal band of 600 Hz, so the model was unable to find the call. "
   ]
  },
  {
   "cell_type": "code",
   "execution_count": 13,
   "metadata": {},
   "outputs": [
    {
     "data": {
      "text/html": [
       "<div>\n",
       "<style scoped>\n",
       "    .dataframe tbody tr th:only-of-type {\n",
       "        vertical-align: middle;\n",
       "    }\n",
       "\n",
       "    .dataframe tbody tr th {\n",
       "        vertical-align: top;\n",
       "    }\n",
       "\n",
       "    .dataframe thead th {\n",
       "        text-align: right;\n",
       "    }\n",
       "</style>\n",
       "<table border=\"1\" class=\"dataframe\">\n",
       "  <thead>\n",
       "    <tr style=\"text-align: right;\">\n",
       "      <th></th>\n",
       "      <th>score</th>\n",
       "      <th>year</th>\n",
       "      <th>logger</th>\n",
       "      <th>time_stamp</th>\n",
       "      <th>date</th>\n",
       "    </tr>\n",
       "  </thead>\n",
       "  <tbody>\n",
       "    <tr>\n",
       "      <th>./sample_data/FLSHE_2018/FLSHE_2018_399/Lcapito_call_20181222_173600.wav</th>\n",
       "      <td>122.73</td>\n",
       "      <td>2018</td>\n",
       "      <td>399</td>\n",
       "      <td>2.5</td>\n",
       "      <td>2018-12-22 17:36:00</td>\n",
       "    </tr>\n",
       "    <tr>\n",
       "      <th>./sample_data/FLSHE_2018/FLSHE_2018_400/Lcapito_call_20181224_173600.wav</th>\n",
       "      <td>104.92</td>\n",
       "      <td>2018</td>\n",
       "      <td>400</td>\n",
       "      <td>1.5</td>\n",
       "      <td>2018-12-24 17:36:00</td>\n",
       "    </tr>\n",
       "    <tr>\n",
       "      <th>./sample_data/FLSHE_2017/FLSHE_2017_400/Lcapito_call_20170301_173600.wav</th>\n",
       "      <td>92.01</td>\n",
       "      <td>2017</td>\n",
       "      <td>400</td>\n",
       "      <td>2.5</td>\n",
       "      <td>2017-03-01 17:36:00</td>\n",
       "    </tr>\n",
       "    <tr>\n",
       "      <th>./sample_data/FLSHE_2017/FLSHE_2017_399/TEST_0+1_20170104_174500.wav</th>\n",
       "      <td>22.1</td>\n",
       "      <td>2017</td>\n",
       "      <td>399</td>\n",
       "      <td>4.0</td>\n",
       "      <td>2017-01-04 17:45:00</td>\n",
       "    </tr>\n",
       "    <tr>\n",
       "      <th>./sample_data/FLSHE_2017/FLSHE_2017_400/TEST_0+1_20170104_174500.wav</th>\n",
       "      <td>20.99</td>\n",
       "      <td>2017</td>\n",
       "      <td>400</td>\n",
       "      <td>1.5</td>\n",
       "      <td>2017-01-04 17:45:00</td>\n",
       "    </tr>\n",
       "    <tr>\n",
       "      <th>./sample_data/FLSHE_2017/FLSHE_2017_399/TEST_0+1_20171221_173600.wav</th>\n",
       "      <td>17.66</td>\n",
       "      <td>2017</td>\n",
       "      <td>399</td>\n",
       "      <td>0.5</td>\n",
       "      <td>2017-12-21 17:36:00</td>\n",
       "    </tr>\n",
       "    <tr>\n",
       "      <th>./sample_data/FLSHE_2018/FLSHE_2018_399/TEST_0+1_20181221_173600.wav</th>\n",
       "      <td>16.43</td>\n",
       "      <td>2018</td>\n",
       "      <td>399</td>\n",
       "      <td>0.0</td>\n",
       "      <td>2018-12-21 17:36:00</td>\n",
       "    </tr>\n",
       "    <tr>\n",
       "      <th>./sample_data/FLSHE_2018/FLSHE_2018_400/Lcapito_call_20180309_174500.wav</th>\n",
       "      <td>1.04</td>\n",
       "      <td>2018</td>\n",
       "      <td>400</td>\n",
       "      <td>3.0</td>\n",
       "      <td>2018-03-09 17:45:00</td>\n",
       "    </tr>\n",
       "  </tbody>\n",
       "</table>\n",
       "</div>"
      ],
      "text/plain": [
       "                                                                           score  \\\n",
       "./sample_data/FLSHE_2018/FLSHE_2018_399/Lcapito_call_20181222_173600.wav  122.73   \n",
       "./sample_data/FLSHE_2018/FLSHE_2018_400/Lcapito_call_20181224_173600.wav  104.92   \n",
       "./sample_data/FLSHE_2017/FLSHE_2017_400/Lcapito_call_20170301_173600.wav   92.01   \n",
       "./sample_data/FLSHE_2017/FLSHE_2017_399/TEST_0+1_20170104_174500.wav        22.1   \n",
       "./sample_data/FLSHE_2017/FLSHE_2017_400/TEST_0+1_20170104_174500.wav       20.99   \n",
       "./sample_data/FLSHE_2017/FLSHE_2017_399/TEST_0+1_20171221_173600.wav       17.66   \n",
       "./sample_data/FLSHE_2018/FLSHE_2018_399/TEST_0+1_20181221_173600.wav       16.43   \n",
       "./sample_data/FLSHE_2018/FLSHE_2018_400/Lcapito_call_20180309_174500.wav    1.04   \n",
       "\n",
       "                                                                          year  \\\n",
       "./sample_data/FLSHE_2018/FLSHE_2018_399/Lcapito_call_20181222_173600.wav  2018   \n",
       "./sample_data/FLSHE_2018/FLSHE_2018_400/Lcapito_call_20181224_173600.wav  2018   \n",
       "./sample_data/FLSHE_2017/FLSHE_2017_400/Lcapito_call_20170301_173600.wav  2017   \n",
       "./sample_data/FLSHE_2017/FLSHE_2017_399/TEST_0+1_20170104_174500.wav      2017   \n",
       "./sample_data/FLSHE_2017/FLSHE_2017_400/TEST_0+1_20170104_174500.wav      2017   \n",
       "./sample_data/FLSHE_2017/FLSHE_2017_399/TEST_0+1_20171221_173600.wav      2017   \n",
       "./sample_data/FLSHE_2018/FLSHE_2018_399/TEST_0+1_20181221_173600.wav      2018   \n",
       "./sample_data/FLSHE_2018/FLSHE_2018_400/Lcapito_call_20180309_174500.wav  2018   \n",
       "\n",
       "                                                                         logger  \\\n",
       "./sample_data/FLSHE_2018/FLSHE_2018_399/Lcapito_call_20181222_173600.wav    399   \n",
       "./sample_data/FLSHE_2018/FLSHE_2018_400/Lcapito_call_20181224_173600.wav    400   \n",
       "./sample_data/FLSHE_2017/FLSHE_2017_400/Lcapito_call_20170301_173600.wav    400   \n",
       "./sample_data/FLSHE_2017/FLSHE_2017_399/TEST_0+1_20170104_174500.wav        399   \n",
       "./sample_data/FLSHE_2017/FLSHE_2017_400/TEST_0+1_20170104_174500.wav        400   \n",
       "./sample_data/FLSHE_2017/FLSHE_2017_399/TEST_0+1_20171221_173600.wav        399   \n",
       "./sample_data/FLSHE_2018/FLSHE_2018_399/TEST_0+1_20181221_173600.wav        399   \n",
       "./sample_data/FLSHE_2018/FLSHE_2018_400/Lcapito_call_20180309_174500.wav    400   \n",
       "\n",
       "                                                                          time_stamp  \\\n",
       "./sample_data/FLSHE_2018/FLSHE_2018_399/Lcapito_call_20181222_173600.wav         2.5   \n",
       "./sample_data/FLSHE_2018/FLSHE_2018_400/Lcapito_call_20181224_173600.wav         1.5   \n",
       "./sample_data/FLSHE_2017/FLSHE_2017_400/Lcapito_call_20170301_173600.wav         2.5   \n",
       "./sample_data/FLSHE_2017/FLSHE_2017_399/TEST_0+1_20170104_174500.wav             4.0   \n",
       "./sample_data/FLSHE_2017/FLSHE_2017_400/TEST_0+1_20170104_174500.wav             1.5   \n",
       "./sample_data/FLSHE_2017/FLSHE_2017_399/TEST_0+1_20171221_173600.wav             0.5   \n",
       "./sample_data/FLSHE_2018/FLSHE_2018_399/TEST_0+1_20181221_173600.wav             0.0   \n",
       "./sample_data/FLSHE_2018/FLSHE_2018_400/Lcapito_call_20180309_174500.wav         3.0   \n",
       "\n",
       "                                                                                        date  \n",
       "./sample_data/FLSHE_2018/FLSHE_2018_399/Lcapito_call_20181222_173600.wav 2018-12-22 17:36:00  \n",
       "./sample_data/FLSHE_2018/FLSHE_2018_400/Lcapito_call_20181224_173600.wav 2018-12-24 17:36:00  \n",
       "./sample_data/FLSHE_2017/FLSHE_2017_400/Lcapito_call_20170301_173600.wav 2017-03-01 17:36:00  \n",
       "./sample_data/FLSHE_2017/FLSHE_2017_399/TEST_0+1_20170104_174500.wav     2017-01-04 17:45:00  \n",
       "./sample_data/FLSHE_2017/FLSHE_2017_400/TEST_0+1_20170104_174500.wav     2017-01-04 17:45:00  \n",
       "./sample_data/FLSHE_2017/FLSHE_2017_399/TEST_0+1_20171221_173600.wav     2017-12-21 17:36:00  \n",
       "./sample_data/FLSHE_2018/FLSHE_2018_399/TEST_0+1_20181221_173600.wav     2018-12-21 17:36:00  \n",
       "./sample_data/FLSHE_2018/FLSHE_2018_400/Lcapito_call_20180309_174500.wav 2018-03-09 17:45:00  "
      ]
     },
     "execution_count": 13,
     "metadata": {},
     "output_type": "execute_result"
    }
   ],
   "source": [
    "flshe_rs.sort_values(by = 'score', ascending = False) \n"
   ]
  },
  {
   "cell_type": "markdown",
   "metadata": {},
   "source": [
    "## Example of running a univariate parameter space exploration\n"
   ]
  },
  {
   "cell_type": "code",
   "execution_count": 26,
   "metadata": {},
   "outputs": [
    {
     "name": "stdout",
     "output_type": "stream",
     "text": [
      "Time elapsed  0:00:01.591461\n",
      "Time elapsed  0:00:01.591818\n",
      "Time elapsed  0:00:01.500910\n"
     ]
    }
   ],
   "source": [
    "%%capture --no-stdout --no-display \n",
    "# above used to stop warnings displaying\n",
    "\n",
    "flshe_rs = flshe_files.copy()[0:1]\n",
    "\n",
    "# Testing various values of \"pulse rate\"\n",
    "pulse_rate_vals = [[10,28], [12,28], [14,28]] #*# change these to pulse rate parameters we want to test \n",
    "run_ribbit_SA(flshe_rs, test_param = \"pulse_rate_range\", param_vals = pulse_rate_vals) \n",
    "\n"
   ]
  },
  {
   "cell_type": "code",
   "execution_count": null,
   "metadata": {},
   "outputs": [],
   "source": []
  }
 ],
 "metadata": {
  "kernelspec": {
   "display_name": "OpenSoundscape060",
   "language": "python",
   "name": "opensoundscape060"
  },
  "language_info": {
   "codemirror_mode": {
    "name": "ipython",
    "version": 3
   },
   "file_extension": ".py",
   "mimetype": "text/x-python",
   "name": "python",
   "nbconvert_exporter": "python",
   "pygments_lexer": "ipython3",
   "version": "3.7.11"
  }
 },
 "nbformat": 4,
 "nbformat_minor": 4
}
