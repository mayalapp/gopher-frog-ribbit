{
 "cells": [
  {
   "cell_type": "markdown",
   "metadata": {},
   "source": [
    "# Run RIBBIT to detect _L. capito_  in FLSHE data "
   ]
  },
  {
   "cell_type": "markdown",
   "metadata": {},
   "source": [
    "This notebook is used to run RIBBIT to detect _Lithobates capito_ on FLSHE data. "
   ]
  },
  {
   "cell_type": "markdown",
   "metadata": {},
   "source": [
    "## How to use: \n",
    "\n",
    "\n",
    "1. Make sure all audio files end with the date/time for the file in the format \"xxxxx_YYYYMMDD_HHMMSS.wav\"\n",
    "1. Edit and run all **Setup** code chunks to prepare the model parameters and file paths for use. \n",
    "  - Note:`#*#` indicates locations where you may want to edit (e.g. file paths, parameter values, etc.)\n",
    "  \n",
    "1. Use the **Run model** code chunks to run the model. \n",
    "\n",
    "### Data organization \n",
    "\n",
    "This assumes the data is organized such that there is a folder for each year and each year contains folders for each logger (ie pond). \n",
    "\n",
    "e.g. This would be the file path for the data from logger 400 in 2022: \n",
    "\n",
    "`/Volumes/Expansion/Frog Call Project/Calling Data/FLSHE/FLSHE_2022/FLSHE_2022_400/`\n",
    "\n",
    "   \n",
    "### Tips and troubleshooting \n",
    "   \n",
    "1. This code will take hours to run if you're doing a lot of data! Plug in your computer. Also make sure you computer will not turn off while it is running (you may need to do this in your computer settings). It's ok if the screen turns off, but the computer must continue running. The model saves results at checkpoints, so if it stops for some reason, some of the data will be saved. \n",
    "\n",
    "1. To try to make it faster: One option is to open multiple instances of this notebook and run different years and/or loggers seperately. If you do this, make sure the folders labels are different for each piece that is running. \n",
    "\n",
    "1. You may get (MANY) warnings that say something like `UserWarning: nperseg = 256 is greater than input length  = 94, using nperseg = 94`. This is fine to ignore - it's just saying the last spectrogram used by the model is shorter because the audio file ended. \n",
    "\n",
    "1. An example for running a univariate parameter exploration is given below, as well. \n",
    "\n",
    "### For more on using RIBBIT\n",
    "[OpenSoundscape RIBBIT tutorial](http://opensoundscape.org/en/latest/tutorials/RIBBIT_pulse_rate_demo.html)\n",
    "\n",
    "\n",
    "\n"
   ]
  },
  {
   "cell_type": "markdown",
   "metadata": {},
   "source": [
    "## Setup "
   ]
  },
  {
   "cell_type": "code",
   "execution_count": 11,
   "metadata": {},
   "outputs": [],
   "source": [
    "# run the file setup_functions.ipynb to define setting, import packages, and define functions \n",
    "%run ../ribbit_functions/setup_functions.ipynb"
   ]
  },
  {
   "cell_type": "markdown",
   "metadata": {},
   "source": [
    "### Set base parameters "
   ]
  },
  {
   "cell_type": "markdown",
   "metadata": {},
   "source": [
    "These parameters can be adjusted to try to improve the model or to change the model for a different herp species \n",
    "\n",
    "#### Current best parameters for gopher frog detection (as of December 2022): \n",
    "base_pulse_rate_range = [14,28] pulses per sec\n",
    "\n",
    "base_signal_band = [600,800] Hz\n",
    "\n",
    "base_noise_bands = [[150,200], [1100,1200]] Hz\n",
    "\n",
    "base_clip_duration = 1 seconds\n",
    "\n",
    "base_clip_overlap = 0.5 seconds\n",
    "\n",
    "base_window_samples = 512\n"
   ]
  },
  {
   "cell_type": "code",
   "execution_count": 12,
   "metadata": {},
   "outputs": [],
   "source": [
    "# minimum and maximum rate of pulsing (pulses per second) to search for\n",
    "base_pulse_rate_range = [14,28] #*# change this to desired pulse-rate\n",
    "\n",
    "# look for a vocalization in the range of 600-800 Hz\n",
    "base_signal_band = [600,800] #*#\n",
    "\n",
    "\n",
    "# subtract the amplitude signal from these frequency ranges\n",
    "base_noise_bands = [[150,200], [1100,1200]] #*#\n",
    "\n",
    "#divides the signal into segments this many seconds long, analyzes each independently\n",
    "base_clip_duration = 1 #*# seconds\n",
    "base_clip_overlap = 0.5 #*# seconds\n",
    "\n",
    "# window_samples used to create spectrogram - default 512. smaller -> greater time resolution. bigger -> greater frequency resolution\n",
    "base_window_samples = 512 #*#\n",
    "\n",
    "#if True, it will show the power spectrum plot for each audio segment\n",
    "show_plots = False # don't change this - will slow down model considerably \n"
   ]
  },
  {
   "cell_type": "markdown",
   "metadata": {},
   "source": [
    "### Define functions used to run RIBBIT"
   ]
  },
  {
   "cell_type": "code",
   "execution_count": 14,
   "metadata": {},
   "outputs": [],
   "source": [
    "# run the file run_ribbit_functions.ipynb to define the functions used to run the RIBBIT model with different parameters \n",
    "# Note: this must be done after base parameters are set\n",
    "%run ../ribbit_functions/run_ribbit_functions.ipynb\n"
   ]
  },
  {
   "cell_type": "markdown",
   "metadata": {},
   "source": [
    "### Set up file paths"
   ]
  },
  {
   "cell_type": "code",
   "execution_count": 15,
   "metadata": {},
   "outputs": [],
   "source": [
    "# folder path for where the audio files are stored \n",
    "folder_path = './sample_data/'#*# change this to your folder path containing your data. Should end in backslash\n",
    "# e.g. Maya's path: '/Volumes/Expansion/Frog Call Project/Calling Data/FLSHE/' \n",
    "\n",
    "# folder label for where ribbit scores csv will be saved. folder will be named: ribbit_scores_folder_lab\n",
    "folder_lab = '_sample_files' #*# change this to label the folder where the ribbit scores will be saved \n",
    "\n",
    "# edit this if you only want to run the model for specific years/ponds\n",
    "all_years = [\"2017\", \"2018\", \"2019\", \"2020\", \"2021\", \"2022\"] #*# change this to choose years to analyze \n",
    "all_loggers = [\"398\", \"399\", \"400\", \"401\", \"402\", \"403\"] #*# change this to choose logger names to analyze\n",
    "\n"
   ]
  },
  {
   "cell_type": "markdown",
   "metadata": {},
   "source": [
    "## Run model "
   ]
  },
  {
   "cell_type": "code",
   "execution_count": 28,
   "metadata": {},
   "outputs": [
    {
     "name": "stdout",
     "output_type": "stream",
     "text": [
      "Time elapsed  0:00:35.920924\n"
     ]
    }
   ],
   "source": [
    "%%capture --no-stdout --no-display \n",
    "# above used to stop warnings displaying\n",
    "\n",
    "# create a df where the indices are all file names we want to run \n",
    "flshe_files = pd.DataFrame()\n",
    "        \n",
    "for i in range(0, len(all_years)):\n",
    "    for j in range(0, len(all_loggers)):\n",
    "        \n",
    "        # folder name where data is stored for this sepecific year and logger \n",
    "        folder = folder_path + 'FLSHE_' + all_years[i] + '/FLSHE_' + all_years[i] + '_' + all_loggers[j] + '/*.wav'\n",
    "        \n",
    "        temp = pd.DataFrame(index = glob(folder),columns=['score', 'year', 'logger']) # create dataframe for year i, logger j\n",
    "        temp['year'] = all_years[i] # automatically label year for these files\n",
    "        temp['logger'] = all_loggers[j] # automatically label loggers for these files\n",
    "        \n",
    "        flshe_files = pd.concat([flshe_files, temp])\n",
    "        \n",
    "# run ribbit for all of the files! \n",
    "flshe_rs = flshe_files.copy()\n",
    "flshe_rs\n",
    "run_ribbit_for_indices(flshe_rs, folder_lab = folder_lab)\n"
   ]
  },
  {
   "cell_type": "markdown",
   "metadata": {},
   "source": [
    "## Example of running a univariate parameter space exploration\n"
   ]
  },
  {
   "cell_type": "code",
   "execution_count": 26,
   "metadata": {},
   "outputs": [
    {
     "name": "stdout",
     "output_type": "stream",
     "text": [
      "Time elapsed  0:00:01.591461\n",
      "Time elapsed  0:00:01.591818\n",
      "Time elapsed  0:00:01.500910\n"
     ]
    }
   ],
   "source": [
    "%%capture --no-stdout --no-display \n",
    "# above used to stop warnings displaying\n",
    "\n",
    "flshe_rs = flshe_files.copy()[0:1]\n",
    "\n",
    "# Testing various values of \"pulse rate\"\n",
    "pulse_rate_vals = [[10,28], [12,28], [14,28]] #*# change these to pulse rate parameters we want to test \n",
    "run_ribbit_SA(flshe_rs, test_param = \"pulse_rate_range\", param_vals = pulse_rate_vals) \n",
    "\n"
   ]
  },
  {
   "cell_type": "code",
   "execution_count": null,
   "metadata": {},
   "outputs": [],
   "source": []
  }
 ],
 "metadata": {
  "kernelspec": {
   "display_name": "OpenSoundscape060",
   "language": "python",
   "name": "opensoundscape060"
  },
  "language_info": {
   "codemirror_mode": {
    "name": "ipython",
    "version": 3
   },
   "file_extension": ".py",
   "mimetype": "text/x-python",
   "name": "python",
   "nbconvert_exporter": "python",
   "pygments_lexer": "ipython3",
   "version": "3.7.11"
  }
 },
 "nbformat": 4,
 "nbformat_minor": 4
}
